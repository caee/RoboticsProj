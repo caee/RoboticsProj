{
 "cells": [
  {
   "cell_type": "code",
   "execution_count": 7,
   "id": "2358723f-ee94-4fb5-ae61-ae55afa365bb",
   "metadata": {
    "tags": []
   },
   "outputs": [
    {
     "ename": "ModuleNotFoundError",
     "evalue": "No module named 'dynamixel_sdk'",
     "output_type": "error",
     "traceback": [
      "\u001b[1;31m---------------------------------------------------------------------------\u001b[0m",
      "\u001b[1;31mModuleNotFoundError\u001b[0m                       Traceback (most recent call last)",
      "Cell \u001b[1;32mIn[7], line 1\u001b[0m\n\u001b[1;32m----> 1\u001b[0m \u001b[38;5;28;01mimport\u001b[39;00m \u001b[38;5;21;01mdynamixel_sdk\u001b[39;00m \u001b[38;5;28;01mas\u001b[39;00m \u001b[38;5;21;01mdxl\u001b[39;00m\n\u001b[0;32m      2\u001b[0m ADDR_MX_TORQUE_ENABLE \u001b[38;5;241m=\u001b[39m \u001b[38;5;241m24\u001b[39m\n\u001b[0;32m      3\u001b[0m ADDR_MX_CW_COMPLIANCE_MARGIN \u001b[38;5;241m=\u001b[39m \u001b[38;5;241m26\u001b[39m\n",
      "\u001b[1;31mModuleNotFoundError\u001b[0m: No module named 'dynamixel_sdk'"
     ]
    }
   ],
   "source": [
    "import dynamixel_sdk as dxl\n",
    "ADDR_MX_TORQUE_ENABLE = 24\n",
    "ADDR_MX_CW_COMPLIANCE_MARGIN = 26\n",
    "ADDR_MX_CCW_COMPLIANCE_MARGIN = 27\n",
    "ADDR_MX_CW_COMPLIANCE_SLOPE = 28\n",
    "ADDR_MX_CCW_COMPLIANCE_SLOPE = 29\n",
    "ADDR_MX_GOAL_POSITION = 30\n",
    "ADDR_MX_MOVING_SPEED = 32\n",
    "ADDR_MX_PRESENT_POSITION = 36\n",
    "ADDR_MX_PUNCH = 48\n",
    "PROTOCOL_VERSION = 1.0\n",
    "DXL_IDS = [1,2,3,4]\n",
    "DEVICENAME = 'COM3'\n",
    "BAUDRATE = 1000000\n",
    "TORQUE_ENABLE = 1\n",
    "TORQUE_DISABLE = 0\n",
    "portHandler = dxl.PortHandler(DEVICENAME)\n",
    "packetHandler = dxl.PacketHandler(PROTOCOL_VERSION)\n",
    "portHandler.openPort()\n",
    "portHandler.setBaudRate(BAUDRATE)\n",
    "for DXL_ID in DXL_IDS:\n",
    "    packetHandler.write1ByteTxRx(portHandler, DXL_ID, ADDR_MX_TORQUE_ENABLE, TORQUE_ENABLE)\n",
    "    packetHandler.write2ByteTxRx(portHandler, DXL_ID, ADDR_MX_CW_COMPLIANCE_MARGIN, 0)\n",
    "    packetHandler.write2ByteTxRx(portHandler, DXL_ID, ADDR_MX_CCW_COMPLIANCE_MARGIN, 0)\n",
    "    packetHandler.write1ByteTxRx(portHandler, DXL_ID, ADDR_MX_CW_COMPLIANCE_SLOPE, 32)\n",
    "    packetHandler.write1ByteTxRx(portHandler, DXL_ID, ADDR_MX_CCW_COMPLIANCE_SLOPE, 32)\n",
    "    packetHandler.write2ByteTxRx(portHandler, DXL_ID, ADDR_MX_MOVING_SPEED, 100)"
   ]
  }
 ],
 "metadata": {
  "kernelspec": {
   "display_name": "Python 3 (ipykernel)",
   "language": "python",
   "name": "python3"
  },
  "language_info": {
   "codemirror_mode": {
    "name": "ipython",
    "version": 3
   },
   "file_extension": ".py",
   "mimetype": "text/x-python",
   "name": "python",
   "nbconvert_exporter": "python",
   "pygments_lexer": "ipython3",
   "version": "3.10.13"
  }
 },
 "nbformat": 4,
 "nbformat_minor": 5
}
